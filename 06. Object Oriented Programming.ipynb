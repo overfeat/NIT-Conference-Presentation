{
 "cells": [
  {
   "cell_type": "code",
   "execution_count": 32,
   "metadata": {},
   "outputs": [],
   "source": [
    "class some_numbers:\n",
    "    some_number = 10\n"
   ]
  },
  {
   "cell_type": "code",
   "execution_count": 36,
   "metadata": {},
   "outputs": [
    {
     "data": {
      "text/plain": [
       "10"
      ]
     },
     "execution_count": 36,
     "metadata": {},
     "output_type": "execute_result"
    }
   ],
   "source": [
    "test_numbers = some_numbers()\n",
    "test_numbers.some_number"
   ]
  },
  {
   "cell_type": "code",
   "execution_count": 37,
   "metadata": {},
   "outputs": [
    {
     "data": {
      "text/plain": [
       "10"
      ]
     },
     "execution_count": 37,
     "metadata": {},
     "output_type": "execute_result"
    }
   ],
   "source": [
    "some_numbers.some_number"
   ]
  },
  {
   "cell_type": "code",
   "execution_count": 39,
   "metadata": {},
   "outputs": [],
   "source": [
    "class Person:\n",
    "    def __init__(self, name, location):\n",
    "        self.name = name\n",
    "        self.location = location"
   ]
  },
  {
   "cell_type": "code",
   "execution_count": 45,
   "metadata": {},
   "outputs": [
    {
     "data": {
      "text/plain": [
       "{'name': 'John', 'location': 'Calicut'}"
      ]
     },
     "execution_count": 45,
     "metadata": {},
     "output_type": "execute_result"
    }
   ],
   "source": [
    "p1 = Person(\"John\",\"Calicut\" )\n",
    "p1.__dict__\n"
   ]
  },
  {
   "cell_type": "code",
   "execution_count": 46,
   "metadata": {},
   "outputs": [
    {
     "data": {
      "text/plain": [
       "{'name': 'Ravi', 'location': 'Bangalore'}"
      ]
     },
     "execution_count": 46,
     "metadata": {},
     "output_type": "execute_result"
    }
   ],
   "source": [
    "p2 = Person(\"Ravi\",\"Bangalore\" )\n",
    "p2.__dict__"
   ]
  },
  {
   "cell_type": "code",
   "execution_count": 47,
   "metadata": {},
   "outputs": [],
   "source": [
    "class parents:\n",
    "    test_number = 300\n",
    "    def __init__(self):\n",
    "        self.hometown = \"Delhi\"\n",
    "        self.familybusiness = \"Restaurants\"\n",
    "        print(\"Parents details Initialized\")\n",
    "    def put_mother_name(self,mothername):\n",
    "        self.mothername = mothername\n",
    "    def put_father_name(self,fathername):\n",
    "        self.fathername = fathername\n",
    "    def get_parents_info(self):\n",
    "        print(\"Father Name :\",self.fathername)\n",
    "        print(\"Mother Nmae :\",self.mothername)"
   ]
  },
  {
   "cell_type": "code",
   "execution_count": 48,
   "metadata": {},
   "outputs": [],
   "source": [
    "class child(parents):\n",
    "    def __init__(self):\n",
    "        super().__init__()\n",
    "        print(\"Parents Class Inherited\")\n",
    "    def enter_child_name(self,child_name):\n",
    "        self.child_name=child_name\n",
    "    def enter_age_location(self,age,location):\n",
    "        self.age=age\n",
    "        self.location=location\n",
    "        print(\"Child Location details entered\")\n",
    "    def enter_employment_info(self,job):\n",
    "        self.job=job\n",
    "    def get_all_child_details(self):\n",
    "        print(self.child_name + \"Age: \",self.age,\"Location:\",self.location, \"job:\",self.job)"
   ]
  },
  {
   "cell_type": "code",
   "execution_count": 49,
   "metadata": {},
   "outputs": [
    {
     "name": "stdout",
     "output_type": "stream",
     "text": [
      "Parents details Initialized\n"
     ]
    }
   ],
   "source": [
    "parents_info=parents()"
   ]
  },
  {
   "cell_type": "code",
   "execution_count": 50,
   "metadata": {},
   "outputs": [
    {
     "data": {
      "text/plain": [
       "'Delhi'"
      ]
     },
     "execution_count": 50,
     "metadata": {},
     "output_type": "execute_result"
    }
   ],
   "source": [
    "parents_info.hometown"
   ]
  },
  {
   "cell_type": "code",
   "execution_count": 8,
   "metadata": {},
   "outputs": [],
   "source": [
    "parents_info.put_father_name(\"Rahul\")\n",
    "parents_info.put_mother_name(\"Divya\")"
   ]
  },
  {
   "cell_type": "code",
   "execution_count": 9,
   "metadata": {},
   "outputs": [
    {
     "name": "stdout",
     "output_type": "stream",
     "text": [
      "Father Name : Rahul\n",
      "Mother Nmae : Divya\n"
     ]
    }
   ],
   "source": [
    "parents_info.get_parents_info()"
   ]
  },
  {
   "cell_type": "code",
   "execution_count": 10,
   "metadata": {},
   "outputs": [
    {
     "data": {
      "text/plain": [
       "'Delhi'"
      ]
     },
     "execution_count": 10,
     "metadata": {},
     "output_type": "execute_result"
    }
   ],
   "source": [
    "parents_info.hometown"
   ]
  },
  {
   "cell_type": "code",
   "execution_count": 11,
   "metadata": {},
   "outputs": [
    {
     "data": {
      "text/plain": [
       "'Restaurants'"
      ]
     },
     "execution_count": 11,
     "metadata": {},
     "output_type": "execute_result"
    }
   ],
   "source": [
    "parents_info.familybusiness"
   ]
  },
  {
   "cell_type": "code",
   "execution_count": 12,
   "metadata": {},
   "outputs": [
    {
     "name": "stdout",
     "output_type": "stream",
     "text": [
      "Parents details Initialized\n",
      "Parents Class Inherited\n"
     ]
    }
   ],
   "source": [
    "child1=child()"
   ]
  },
  {
   "cell_type": "code",
   "execution_count": 13,
   "metadata": {},
   "outputs": [
    {
     "data": {
      "text/plain": [
       "'Restaurants'"
      ]
     },
     "execution_count": 13,
     "metadata": {},
     "output_type": "execute_result"
    }
   ],
   "source": [
    "child1.familybusiness"
   ]
  },
  {
   "cell_type": "code",
   "execution_count": 14,
   "metadata": {},
   "outputs": [],
   "source": [
    "child1.put_father_name(\"Raju\")\n",
    "child1.put_mother_name(\"Rani\")"
   ]
  },
  {
   "cell_type": "code",
   "execution_count": 15,
   "metadata": {},
   "outputs": [
    {
     "name": "stdout",
     "output_type": "stream",
     "text": [
      "Father Name : Raju\n",
      "Mother Nmae : Rani\n"
     ]
    }
   ],
   "source": [
    "child1.get_parents_info()"
   ]
  },
  {
   "cell_type": "code",
   "execution_count": 16,
   "metadata": {},
   "outputs": [
    {
     "name": "stdout",
     "output_type": "stream",
     "text": [
      "Parents details Initialized\n",
      "Parents Class Inherited\n"
     ]
    }
   ],
   "source": [
    "child_data=child()"
   ]
  },
  {
   "cell_type": "code",
   "execution_count": 17,
   "metadata": {},
   "outputs": [
    {
     "name": "stdout",
     "output_type": "stream",
     "text": [
      "Child Location details entered\n"
     ]
    }
   ],
   "source": [
    "child_data.enter_child_name(\"Ramesh\")\n",
    "child_data.enter_age_location(23,\"Singapore\")\n",
    "child_data.enter_employment_info(\"Data Scientist\")"
   ]
  },
  {
   "cell_type": "code",
   "execution_count": 18,
   "metadata": {},
   "outputs": [],
   "source": [
    "child_data.put_mother_name(\"Rani\")\n",
    "child_data.put_father_name(\"Raju\")"
   ]
  },
  {
   "cell_type": "code",
   "execution_count": 19,
   "metadata": {},
   "outputs": [
    {
     "name": "stdout",
     "output_type": "stream",
     "text": [
      "Father Name : Raju\n",
      "Mother Nmae : Rani\n"
     ]
    }
   ],
   "source": [
    "child_data.get_parents_info()"
   ]
  },
  {
   "cell_type": "code",
   "execution_count": 20,
   "metadata": {},
   "outputs": [
    {
     "name": "stdout",
     "output_type": "stream",
     "text": [
      "RameshAge:  23 Location: Singapore job: Data Scientist\n"
     ]
    }
   ],
   "source": [
    "child_data.get_all_child_details()"
   ]
  }
 ],
 "metadata": {
  "kernelspec": {
   "display_name": "Python 3",
   "language": "python",
   "name": "python3"
  },
  "language_info": {
   "codemirror_mode": {
    "name": "ipython",
    "version": 3
   },
   "file_extension": ".py",
   "mimetype": "text/x-python",
   "name": "python",
   "nbconvert_exporter": "python",
   "pygments_lexer": "ipython3",
   "version": "3.7.0"
  }
 },
 "nbformat": 4,
 "nbformat_minor": 2
}
